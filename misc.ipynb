{
 "cells": [
  {
   "cell_type": "code",
   "execution_count": 1,
   "metadata": {
    "collapsed": true
   },
   "outputs": [],
   "source": [
    "import pandas as pd # používání zkratky pro modul pandas a numpy\n",
    "import numpy as np"
   ]
  },
  {
   "cell_type": "code",
   "execution_count": 2,
   "metadata": {
    "collapsed": true
   },
   "outputs": [],
   "source": [
    "\n",
    "mol_weight = pd.Series(\n",
    "    [19, 25, 18, 29], \n",
    "    index=['Seq1', 'Seq2', 'Seq3', 'Seq4']\n",
    ")"
   ]
  },
  {
   "cell_type": "code",
   "execution_count": 4,
   "metadata": {},
   "outputs": [
    {
     "data": {
      "text/plain": [
       "Seq1    19\n",
       "Seq2    25\n",
       "Seq3    18\n",
       "Seq4    29\n",
       "dtype: int64"
      ]
     },
     "execution_count": 4,
     "metadata": {},
     "output_type": "execute_result"
    }
   ],
   "source": [
    "mol_weight"
   ]
  },
  {
   "cell_type": "code",
   "execution_count": 5,
   "metadata": {},
   "outputs": [
    {
     "data": {
      "text/plain": [
       "['Honza', 'Lenka', 'Lukáš', 'Hanka']"
      ]
     },
     "execution_count": 5,
     "metadata": {},
     "output_type": "execute_result"
    }
   ],
   "source": [
    "names = [\"Honza\", \"Lenka\", \"Lukáš\", \"Hanka\"]\n",
    "names"
   ]
  },
  {
   "cell_type": "code",
   "execution_count": 11,
   "metadata": {},
   "outputs": [
    {
     "data": {
      "text/plain": [
       "Honza     50\n",
       "Lenka     75\n",
       "Lukáš    150\n",
       "Hanka     35\n",
       "dtype: int64"
      ]
     },
     "execution_count": 11,
     "metadata": {},
     "output_type": "execute_result"
    }
   ],
   "source": [
    "rent = pd.Series([50,75,150,35], index = names)\n",
    "rent"
   ]
  },
  {
   "cell_type": "code",
   "execution_count": 23,
   "metadata": {},
   "outputs": [
    {
     "ename": "NameError",
     "evalue": "name 'mean' is not defined",
     "output_type": "error",
     "traceback": [
      "\u001b[1;31m---------------------------------------------------------------------------\u001b[0m",
      "\u001b[1;31mNameError\u001b[0m                                 Traceback (most recent call last)",
      "\u001b[1;32m<ipython-input-23-d0fba5b70478>\u001b[0m in \u001b[0;36m<module>\u001b[1;34m()\u001b[0m\n\u001b[1;32m----> 1\u001b[1;33m \u001b[0mmean\u001b[0m\u001b[1;33m(\u001b[0m\u001b[0mrent\u001b[0m\u001b[1;33m.\u001b[0m\u001b[0mvalues\u001b[0m\u001b[1;33m)\u001b[0m\u001b[1;33m\u001b[0m\u001b[0m\n\u001b[0m",
      "\u001b[1;31mNameError\u001b[0m: name 'mean' is not defined"
     ]
    }
   ],
   "source": [
    "(rent.values)"
   ]
  },
  {
   "cell_type": "code",
   "execution_count": 1,
   "metadata": {},
   "outputs": [
    {
     "ename": "NameError",
     "evalue": "name 'raw_ocean' is not defined",
     "output_type": "error",
     "traceback": [
      "\u001b[1;31m---------------------------------------------------------------------------\u001b[0m",
      "\u001b[1;31mNameError\u001b[0m                                 Traceback (most recent call last)",
      "\u001b[1;32m<ipython-input-1-f4fb4fd26318>\u001b[0m in \u001b[0;36m<module>\u001b[1;34m()\u001b[0m\n\u001b[0;32m      2\u001b[0m \u001b[0mquestion\u001b[0m \u001b[1;33m=\u001b[0m \u001b[1;34m\"3\"\u001b[0m\u001b[1;33m\u001b[0m\u001b[0m\n\u001b[0;32m      3\u001b[0m \u001b[1;33m\u001b[0m\u001b[0m\n\u001b[1;32m----> 4\u001b[1;33m \u001b[0mraw_ocean\u001b[0m\u001b[1;33m[\u001b[0m\u001b[1;34m\"{}{}\"\u001b[0m\u001b[1;33m.\u001b[0m\u001b[0mformat\u001b[0m\u001b[1;33m(\u001b[0m\u001b[0mdimension\u001b[0m\u001b[1;33m,\u001b[0m \u001b[0mquestion\u001b[0m\u001b[1;33m)\u001b[0m\u001b[1;33m]\u001b[0m\u001b[1;33m\u001b[0m\u001b[0m\n\u001b[0m",
      "\u001b[1;31mNameError\u001b[0m: name 'raw_ocean' is not defined"
     ]
    }
   ],
   "source": [
    "dimension = \"A\"\n",
    "question = \"3\"\n",
    "\n",
    "raw_ocean[\"{}{}\".format(dimension, question)]"
   ]
  },
  {
   "cell_type": "code",
   "execution_count": null,
   "metadata": {
    "collapsed": true
   },
   "outputs": [],
   "source": [
    "question = \"A4\"\n",
    "subquestions = 5\n",
    "\n",
    "def gender_score(question):   \n",
    "    \n",
    "    if question[0] == \"A\":\n",
    "        col = int(question[1]) - 1 + subquestions * 0\n",
    "    elif question[0] == \"C\":\n",
    "        col = int(question[1]) - 1 + subquestions * 1\n",
    "    elif question[0] == \"E\":\n",
    "        col = int(question[1]) - 1 + subquestions * 2\n",
    "    elif question[0] == \"N\":\n",
    "        col = int(question[1]) - 1 + subquestions * 3\n",
    "    elif question[0] == \"O\":\n",
    "        col = int(question[1]) - 1 + subquestions * 4\n",
    "    \n",
    "    row = 0\n",
    "    \n",
    "    wrong = 0\n",
    "\n",
    "    #\"amount\" is used as a number of men\n",
    "    male_amount = 0\n",
    "    #\"count\" is used as a sum of their answers\n",
    "    male_count = 0\n",
    "    \n",
    "    female_amount = 0\n",
    "    female_count = 0\n",
    "     \n",
    "    for illusive_variable_that_wants_to_be_used_but_is_useless in ocean[\"{}\".format(question)]:\n",
    "        \n",
    "        #Is it possible to calculate with selected cell? If not, it counts occurence in \"else\". (Selected by row and column...) (It cannot count with \"NaN\")\n",
    "        \n",
    "        if np.isfinite(ocean.iloc[row, col]):\n",
    "            \n",
    "            #Male's answer's strenghts are summed up in total, so we can later create (by dividing) a mean of answers using summation of number of male participants.\n",
    "            \n",
    "            if ocean.iloc[row, 25] == 1:\n",
    "                male_amount += ocean.iloc[row, col]\n",
    "                male_count += 1\n",
    "            #The same applies for females. Read description above.\n",
    "            else:\n",
    "                female_amount += ocean.iloc[row, col]\n",
    "                female_count += 1\n",
    "        #It is not possible to count with selected row in a column, so we count how many mistakes occured in whole CSV.\n",
    "        else:\n",
    "            wrong += 1\n",
    "            \n",
    "        #Function moves through cells. Columns are fixed, rows increase their indexes.\n",
    "        row += 1\n",
    "        \n",
    "    male_score = male_amount / male_count\n",
    "    female_score = female_amount / female_count\n",
    "    \n",
    "    difference = male_score / female_score\n",
    "    \n",
    "    if print_wrong == 1:\n",
    "        print(\"{} wrong input/s in {}.\".format(wrong, question))\n",
    "    if print_difference == 1:\n",
    "        print()\n",
    "\n",
    "    return male_score, female_score\n",
    "\n",
    "\n",
    "gender_score(question)"
   ]
  }
 ],
 "metadata": {
  "kernelspec": {
   "display_name": "Python 3",
   "language": "python",
   "name": "python3"
  },
  "language_info": {
   "codemirror_mode": {
    "name": "ipython",
    "version": 3
   },
   "file_extension": ".py",
   "mimetype": "text/x-python",
   "name": "python",
   "nbconvert_exporter": "python",
   "pygments_lexer": "ipython3",
   "version": "3.6.1"
  }
 },
 "nbformat": 4,
 "nbformat_minor": 2
}
