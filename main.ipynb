{
 "cells": [
  {
   "cell_type": "code",
   "execution_count": 1,
   "metadata": {
    "collapsed": true
   },
   "outputs": [],
   "source": [
    "import pandas as pd\n",
    "import numpy as np\n",
    "import plotly \n",
    "import plotly.plotly as py\n",
    "import plotly.graph_objs as go\n",
    "plotly.tools.set_credentials_file(username='Wourly', api_key='ynOus3rUfBXLzn11FNII')\n",
    "import matplotlib"
   ]
  },
  {
   "cell_type": "code",
   "execution_count": 176,
   "metadata": {},
   "outputs": [],
   "source": [
    "#variable \"ocean\" is a Dataframe used in this code\n",
    "\n",
    "#loading ocean\n",
    "ocean = pd.read_csv(\"ocean.csv\")\n",
    "#general simplifying of ocean\n",
    "ocean.drop([\"Unnamed: 0\"], axis = 1, inplace = True)\n",
    "#low occurence of data for age lower than 16 and higher than 55, there are 10 or more participants for each age\n",
    "ocean.drop(ocean.index[ocean['age'] <= 15].tolist(), inplace = True)\n",
    "ocean.drop(ocean.index[ocean['age'] >= 56].tolist(), inplace = True)\n",
    "ocean.dropna(axis=0, how='any', thresh=None, subset=None, inplace = True)\n",
    "#creating mean of individual questions + subtractig one, as former scales were from 1 to 6, now are from 0 to 5\n",
    "ocean['A'] = ocean[['A1', 'A2', 'A3', 'A4', 'A5']].mean(axis = 1).subtract(1)\n",
    "ocean['C'] = ocean[['C1', 'C2', 'C3', 'C4', 'C5']].mean(axis = 1).subtract(1)\n",
    "ocean['E'] = ocean[['E1', 'E2', 'E3', 'E4', 'E5']].mean(axis = 1).subtract(1)\n",
    "ocean['N'] = ocean[['N1', 'N2', 'N3', 'N4', 'N5']].mean(axis = 1).subtract(1)\n",
    "ocean['O'] = ocean[['O1', 'O2', 'O3', 'O4', 'O5']].mean(axis = 1).subtract(1)\n",
    "#reorganization - cutting of unmeaned questions and resorting meaned ones\n",
    "ocean.drop(['A1', 'A2', 'A3', 'A4', 'A5', 'C1', 'C2', 'C3', 'C4', 'C5', 'E1', 'E2', 'E3', 'E4', 'E5', 'N1', 'N2', 'N3', 'N4', 'N5', 'O1', 'O2', 'O3', 'O4', 'O5'], axis = 1, inplace = True)\n",
    "ocean = ocean[['A', 'C', 'E', 'N', 'O', \"age\", \"education\", \"gender\"]].sort_values('age')\n",
    "ocean['education'] = ocean['education'].astype(int)\n",
    "ocean = ocean.reset_index(drop=True)"
   ]
  },
  {
   "cell_type": "code",
   "execution_count": 177,
   "metadata": {},
   "outputs": [
    {
     "data": {
      "text/html": [
       "<div>\n",
       "<style>\n",
       "    .dataframe thead tr:only-child th {\n",
       "        text-align: right;\n",
       "    }\n",
       "\n",
       "    .dataframe thead th {\n",
       "        text-align: left;\n",
       "    }\n",
       "\n",
       "    .dataframe tbody tr th {\n",
       "        vertical-align: top;\n",
       "    }\n",
       "</style>\n",
       "<table border=\"1\" class=\"dataframe\">\n",
       "  <thead>\n",
       "    <tr style=\"text-align: right;\">\n",
       "      <th></th>\n",
       "      <th>A</th>\n",
       "      <th>C</th>\n",
       "      <th>E</th>\n",
       "      <th>N</th>\n",
       "      <th>O</th>\n",
       "      <th>age</th>\n",
       "      <th>education</th>\n",
       "      <th>gender</th>\n",
       "    </tr>\n",
       "  </thead>\n",
       "  <tbody>\n",
       "    <tr>\n",
       "      <th>0</th>\n",
       "      <td>2.6</td>\n",
       "      <td>3.2</td>\n",
       "      <td>2.6</td>\n",
       "      <td>4.2</td>\n",
       "      <td>2.4</td>\n",
       "      <td>16</td>\n",
       "      <td>3</td>\n",
       "      <td>2</td>\n",
       "    </tr>\n",
       "    <tr>\n",
       "      <th>1</th>\n",
       "      <td>3.6</td>\n",
       "      <td>3.8</td>\n",
       "      <td>2.6</td>\n",
       "      <td>1.4</td>\n",
       "      <td>2.6</td>\n",
       "      <td>16</td>\n",
       "      <td>1</td>\n",
       "      <td>2</td>\n",
       "    </tr>\n",
       "    <tr>\n",
       "      <th>2</th>\n",
       "      <td>2.0</td>\n",
       "      <td>3.4</td>\n",
       "      <td>3.0</td>\n",
       "      <td>3.0</td>\n",
       "      <td>2.6</td>\n",
       "      <td>16</td>\n",
       "      <td>3</td>\n",
       "      <td>2</td>\n",
       "    </tr>\n",
       "    <tr>\n",
       "      <th>3</th>\n",
       "      <td>3.0</td>\n",
       "      <td>3.4</td>\n",
       "      <td>3.4</td>\n",
       "      <td>3.2</td>\n",
       "      <td>3.0</td>\n",
       "      <td>16</td>\n",
       "      <td>3</td>\n",
       "      <td>2</td>\n",
       "    </tr>\n",
       "    <tr>\n",
       "      <th>4</th>\n",
       "      <td>3.2</td>\n",
       "      <td>3.6</td>\n",
       "      <td>3.2</td>\n",
       "      <td>3.2</td>\n",
       "      <td>3.2</td>\n",
       "      <td>16</td>\n",
       "      <td>1</td>\n",
       "      <td>1</td>\n",
       "    </tr>\n",
       "  </tbody>\n",
       "</table>\n",
       "</div>"
      ],
      "text/plain": [
       "     A    C    E    N    O  age  education  gender\n",
       "0  2.6  3.2  2.6  4.2  2.4   16          3       2\n",
       "1  3.6  3.8  2.6  1.4  2.6   16          1       2\n",
       "2  2.0  3.4  3.0  3.0  2.6   16          3       2\n",
       "3  3.0  3.4  3.4  3.2  3.0   16          3       2\n",
       "4  3.2  3.6  3.2  3.2  3.2   16          1       1"
      ]
     },
     "execution_count": 177,
     "metadata": {},
     "output_type": "execute_result"
    }
   ],
   "source": [
    "ocean.head(5)"
   ]
  },
  {
   "cell_type": "code",
   "execution_count": 183,
   "metadata": {},
   "outputs": [],
   "source": [
    "age_year = ocean['age'].value_counts().sort_index().index.values.tolist()\n",
    "#list of 16, 17, 18, 19, 20, ..., 55\n",
    "age_occ = ocean['age'].value_counts().sort_index().values.tolist()\n",
    "#How many rows are there for each age -> that number is put into list.\n",
    "#Eg: 16 is on 14 rows, 17 on 31, 18 on 107\n",
    "#list of 14, 31, 107, ...\n",
    "\n",
    "#first value of ages is 14 as there is 14 occurences of \"16\" in \"age\" column of dataframe ocean, etc.\n",
    "\n",
    "#function, which creates a list of means of dimensions for each age\n",
    "def mean_age(dimension):\n",
    "\n",
    "    start = 0\n",
    "    end = age_occ[0]\n",
    "    iteration = 0\n",
    "    mean = []\n",
    "    \n",
    "    if dimension == A:\n",
    "        column = 0\n",
    "    elif dimension == C:\n",
    "        column = 1\n",
    "    elif dimension == E:\n",
    "        column = 2\n",
    "    elif dimension == N:\n",
    "        column = 3\n",
    "    else:\n",
    "        column = 4\n",
    "\n",
    "    for distance in ages:\n",
    "    \n",
    "    \n",
    "        if iteration == 0:\n",
    "            mean.append(ocean.iloc[start:end, column].mean())\n",
    "            iteration += 1\n",
    "            start += distance\n",
    "    \n",
    "        else:\n",
    "            end += distance\n",
    "            mean.append(ocean.iloc[start:end, column].mean())\n",
    "            iteration += 1\n",
    "            start += distance\n",
    "\n",
    "            #returns a list with each item rounded\n",
    "            \n",
    "    return [round(number, 3) for number in mean]"
   ]
  },
  {
   "cell_type": "code",
   "execution_count": 184,
   "metadata": {},
   "outputs": [
    {
     "data": {
      "text/html": [
       "<div>\n",
       "<style>\n",
       "    .dataframe thead tr:only-child th {\n",
       "        text-align: right;\n",
       "    }\n",
       "\n",
       "    .dataframe thead th {\n",
       "        text-align: left;\n",
       "    }\n",
       "\n",
       "    .dataframe tbody tr th {\n",
       "        vertical-align: top;\n",
       "    }\n",
       "</style>\n",
       "<table border=\"1\" class=\"dataframe\">\n",
       "  <thead>\n",
       "    <tr style=\"text-align: right;\">\n",
       "      <th></th>\n",
       "      <th>age</th>\n",
       "      <th>respondents</th>\n",
       "      <th>A</th>\n",
       "      <th>C</th>\n",
       "      <th>E</th>\n",
       "      <th>N</th>\n",
       "      <th>O</th>\n",
       "    </tr>\n",
       "  </thead>\n",
       "  <tbody>\n",
       "    <tr>\n",
       "      <th>0</th>\n",
       "      <td>16</td>\n",
       "      <td>14</td>\n",
       "      <td>2.900</td>\n",
       "      <td>2.871</td>\n",
       "      <td>2.800</td>\n",
       "      <td>2.614</td>\n",
       "      <td>2.914</td>\n",
       "    </tr>\n",
       "    <tr>\n",
       "      <th>1</th>\n",
       "      <td>17</td>\n",
       "      <td>31</td>\n",
       "      <td>3.045</td>\n",
       "      <td>2.968</td>\n",
       "      <td>2.703</td>\n",
       "      <td>2.161</td>\n",
       "      <td>3.052</td>\n",
       "    </tr>\n",
       "    <tr>\n",
       "      <th>2</th>\n",
       "      <td>18</td>\n",
       "      <td>107</td>\n",
       "      <td>3.073</td>\n",
       "      <td>2.824</td>\n",
       "      <td>2.865</td>\n",
       "      <td>2.293</td>\n",
       "      <td>2.966</td>\n",
       "    </tr>\n",
       "    <tr>\n",
       "      <th>3</th>\n",
       "      <td>19</td>\n",
       "      <td>164</td>\n",
       "      <td>3.087</td>\n",
       "      <td>2.830</td>\n",
       "      <td>2.822</td>\n",
       "      <td>2.240</td>\n",
       "      <td>2.930</td>\n",
       "    </tr>\n",
       "    <tr>\n",
       "      <th>4</th>\n",
       "      <td>20</td>\n",
       "      <td>178</td>\n",
       "      <td>3.210</td>\n",
       "      <td>2.800</td>\n",
       "      <td>2.789</td>\n",
       "      <td>2.121</td>\n",
       "      <td>2.831</td>\n",
       "    </tr>\n",
       "  </tbody>\n",
       "</table>\n",
       "</div>"
      ],
      "text/plain": [
       "   age  respondents      A      C      E      N      O\n",
       "0   16           14  2.900  2.871  2.800  2.614  2.914\n",
       "1   17           31  3.045  2.968  2.703  2.161  3.052\n",
       "2   18          107  3.073  2.824  2.865  2.293  2.966\n",
       "3   19          164  3.087  2.830  2.822  2.240  2.930\n",
       "4   20          178  3.210  2.800  2.789  2.121  2.831"
      ]
     },
     "execution_count": 184,
     "metadata": {},
     "output_type": "execute_result"
    }
   ],
   "source": [
    "#smaller dataFrame of ocean, which consists of means for individual age\n",
    "lake_age = pd.DataFrame()\n",
    "lake_age['age'] = age_year\n",
    "lake_age['respondents'] = age_values\n",
    "lake_age['A'] = mean_age(A)\n",
    "lake_age['C'] = mean_age(C)\n",
    "lake_age['E'] = mean_age(E)\n",
    "lake_age['N'] = mean_age(N)\n",
    "lake_age['O'] = mean_age(O)\n",
    "lake_age.head()"
   ]
  },
  {
   "cell_type": "code",
   "execution_count": null,
   "metadata": {
    "collapsed": true
   },
   "outputs": [],
   "source": []
  },
  {
   "cell_type": "code",
   "execution_count": null,
   "metadata": {
    "collapsed": true
   },
   "outputs": [],
   "source": []
  },
  {
   "cell_type": "code",
   "execution_count": 185,
   "metadata": {},
   "outputs": [
    {
     "data": {
      "text/plain": [
       "[192, 242, 1065, 338, 342]"
      ]
     },
     "execution_count": 185,
     "metadata": {},
     "output_type": "execute_result"
    }
   ],
   "source": [
    "edu_lvl = ocean['education'].value_counts().sort_index().index.values.tolist()\n",
    "edu_occ = ocean['education'].value_counts().sort_index().values.tolist()\n",
    "edu_values"
   ]
  },
  {
   "cell_type": "code",
   "execution_count": null,
   "metadata": {
    "collapsed": true
   },
   "outputs": [],
   "source": []
  },
  {
   "cell_type": "code",
   "execution_count": null,
   "metadata": {
    "collapsed": true
   },
   "outputs": [],
   "source": []
  },
  {
   "cell_type": "code",
   "execution_count": 117,
   "metadata": {},
   "outputs": [
    {
     "data": {
      "text/plain": [
       "360"
      ]
     },
     "execution_count": 117,
     "metadata": {},
     "output_type": "execute_result"
    }
   ],
   "source": [
    "def mean_edu(dimension):\n",
    "\n",
    "    start = 0\n",
    "    end = age_values[0]\n",
    "    iteration = 0\n",
    "    mean = []\n",
    "    \n",
    "    if dimension == A:\n",
    "        column = 0\n",
    "    elif dimension == C:\n",
    "        column = 1\n",
    "    elif dimension == E:\n",
    "        column = 2\n",
    "    elif dimension == N:\n",
    "        column = 3\n",
    "    else:\n",
    "        column = 4\n",
    "\n",
    "    for distance in ages:\n",
    "    \n",
    "    \n",
    "        if iteration == 0:\n",
    "            mean.append(ocean.iloc[start:end, column].mean())\n",
    "            iteration += 1\n",
    "            start += distance\n",
    "    \n",
    "        else:\n",
    "            end += distance\n",
    "            mean.append(ocean.iloc[start:end, column].mean())\n",
    "            iteration += 1\n",
    "            start += distance\n",
    "\n",
    "            #returns a list with each item rounded\n",
    "            \n",
    "    return [round(number, 3) for number in mean]"
   ]
  },
  {
   "cell_type": "code",
   "execution_count": null,
   "metadata": {},
   "outputs": [],
   "source": []
  },
  {
   "cell_type": "code",
   "execution_count": 84,
   "metadata": {},
   "outputs": [
    {
     "data": {
      "text/plain": [
       "15"
      ]
     },
     "execution_count": 84,
     "metadata": {},
     "output_type": "execute_result"
    }
   ],
   "source": [
    "ocean.iloc[0, 6]"
   ]
  },
  {
   "cell_type": "code",
   "execution_count": null,
   "metadata": {
    "collapsed": true
   },
   "outputs": [],
   "source": []
  },
  {
   "cell_type": "code",
   "execution_count": null,
   "metadata": {
    "collapsed": true
   },
   "outputs": [],
   "source": []
  },
  {
   "cell_type": "code",
   "execution_count": null,
   "metadata": {
    "collapsed": true
   },
   "outputs": [],
   "source": []
  },
  {
   "cell_type": "code",
   "execution_count": null,
   "metadata": {
    "collapsed": true
   },
   "outputs": [],
   "source": []
  },
  {
   "cell_type": "code",
   "execution_count": null,
   "metadata": {
    "collapsed": true
   },
   "outputs": [],
   "source": []
  },
  {
   "cell_type": "code",
   "execution_count": null,
   "metadata": {
    "collapsed": true
   },
   "outputs": [],
   "source": []
  },
  {
   "cell_type": "code",
   "execution_count": null,
   "metadata": {
    "collapsed": true
   },
   "outputs": [],
   "source": []
  },
  {
   "cell_type": "code",
   "execution_count": null,
   "metadata": {
    "collapsed": true
   },
   "outputs": [],
   "source": []
  },
  {
   "cell_type": "code",
   "execution_count": 81,
   "metadata": {},
   "outputs": [
    {
     "name": "stdout",
     "output_type": "stream",
     "text": [
      "High five! You successfully sent some data to your account on plotly. View your plot in your browser at https://plot.ly/~Wourly/0 or inside your plot.ly account where it is named 'basic-scatter'\n"
     ]
    },
    {
     "data": {
      "text/html": [
       "<iframe id=\"igraph\" scrolling=\"no\" style=\"border:none;\" seamless=\"seamless\" src=\"https://plot.ly/~Wourly/0.embed\" height=\"525px\" width=\"100%\"></iframe>"
      ],
      "text/plain": [
       "<plotly.tools.PlotlyDisplay object>"
      ]
     },
     "execution_count": 81,
     "metadata": {},
     "output_type": "execute_result"
    }
   ],
   "source": [
    "# Create a trace\n",
    "trace_ocean = go.Scatter(\n",
    "    name = \"Occurences\",\n",
    "    x = ocean[\"age\"],\n",
    "    y = ocean[\"N\"],\n",
    "    mode = 'markers'\n",
    ")\n",
    "\n",
    "trace_lake_age = go.Scatter(\n",
    "    name = \"Mean\",\n",
    "    x = lake_age[\"age\"],\n",
    "    y = lake_age[\"N\"],\n",
    "\n",
    ")\n",
    "\n",
    "data = [trace_ocean, trace_lake_age]\n",
    "\n",
    "# Plot and embed in ipython notebook!\n",
    "py.iplot(data, filename='basic-scatter')\n",
    "\n",
    "# or plot with: plot_url = py.plot(data, filename='basic-line')"
   ]
  },
  {
   "cell_type": "code",
   "execution_count": null,
   "metadata": {
    "collapsed": true
   },
   "outputs": [],
   "source": []
  },
  {
   "cell_type": "code",
   "execution_count": null,
   "metadata": {
    "collapsed": true
   },
   "outputs": [],
   "source": [
    "A"
   ]
  },
  {
   "cell_type": "code",
   "execution_count": null,
   "metadata": {
    "collapsed": true
   },
   "outputs": [],
   "source": []
  },
  {
   "cell_type": "code",
   "execution_count": null,
   "metadata": {
    "collapsed": true
   },
   "outputs": [],
   "source": []
  },
  {
   "cell_type": "code",
   "execution_count": null,
   "metadata": {
    "collapsed": true
   },
   "outputs": [],
   "source": []
  },
  {
   "cell_type": "code",
   "execution_count": null,
   "metadata": {
    "collapsed": true
   },
   "outputs": [],
   "source": []
  },
  {
   "cell_type": "code",
   "execution_count": null,
   "metadata": {
    "collapsed": true
   },
   "outputs": [],
   "source": [
    "question = \"A4\"\n",
    "subquestions = 5\n",
    "\n",
    "def gender_score(question):   \n",
    "    \n",
    "    if question[0] == \"A\":\n",
    "        col = int(question[1]) - 1 + subquestions * 0\n",
    "    elif question[0] == \"C\":\n",
    "        col = int(question[1]) - 1 + subquestions * 1\n",
    "    elif question[0] == \"E\":\n",
    "        col = int(question[1]) - 1 + subquestions * 2\n",
    "    elif question[0] == \"N\":\n",
    "        col = int(question[1]) - 1 + subquestions * 3\n",
    "    elif question[0] == \"O\":\n",
    "        col = int(question[1]) - 1 + subquestions * 4\n",
    "    \n",
    "    row = 0\n",
    "    \n",
    "    wrong = 0\n",
    "\n",
    "    #\"amount\" is used as a number of men\n",
    "    male_amount = 0\n",
    "    #\"count\" is used as a sum of their answers\n",
    "    male_count = 0\n",
    "    \n",
    "    female_amount = 0\n",
    "    female_count = 0\n",
    "     \n",
    "    for illusive_variable_that_wants_to_be_used_but_is_useless in ocean[\"{}\".format(question)]:\n",
    "        \n",
    "        #Is it possible to calculate with selected cell? If not, it counts occurence in \"else\". (Selected by row and column...) (It cannot count with \"NaN\")\n",
    "        \n",
    "        if np.isfinite(ocean.iloc[row, col]):\n",
    "            \n",
    "            #Male's answer's strenghts are summed up in total, so we can later create (by dividing) a mean of answers using summation of number of male participants.\n",
    "            \n",
    "            if ocean.iloc[row, 25] == 1:\n",
    "                male_amount += ocean.iloc[row, col]\n",
    "                male_count += 1\n",
    "            #The same applies for females. Read description above.\n",
    "            else:\n",
    "                female_amount += ocean.iloc[row, col]\n",
    "                female_count += 1\n",
    "        #It is not possible to count with selected row in a column, so we count how many mistakes occured in whole CSV.\n",
    "        else:\n",
    "            wrong += 1\n",
    "            \n",
    "        #Function moves through cells. Columns are fixed, rows increase their indexes.\n",
    "        row += 1\n",
    "        \n",
    "    male_score = male_amount / male_count\n",
    "    female_score = female_amount / female_count\n",
    "    \n",
    "    difference = male_score / female_score\n",
    "    \n",
    "    if print_wrong == 1:\n",
    "        print(\"{} wrong input/s in {}.\".format(wrong, question))\n",
    "    if print_difference == 1:\n",
    "        print()\n",
    "\n",
    "    return male_score, female_score\n",
    "\n",
    "\n",
    "gender_score(question)"
   ]
  },
  {
   "cell_type": "code",
   "execution_count": null,
   "metadata": {
    "collapsed": true
   },
   "outputs": [],
   "source": [
    "gender_score(\"N5\")"
   ]
  },
  {
   "cell_type": "code",
   "execution_count": null,
   "metadata": {
    "collapsed": true
   },
   "outputs": [],
   "source": [
    "question = \"A4\"\n",
    "    \n",
    "    if question[0] == \"A\":\n",
    "        col = int(question[1]) - 1 + subquestions * 0\n",
    "    elif question[0] == \"C\":\n",
    "        col = int(question[1]) - 1 + subquestions * 1\n",
    "    elif question[0] == \"E\":\n",
    "        col = int(question[1]) - 1 + subquestions * 2\n",
    "    elif question[0] == \"N\":\n",
    "        col = int(question[1]) - 1 + subquestions * 3\n",
    "    elif question[0] == \"O\":\n",
    "        col = int(question[1]) - 1 + subquestions * 4\n",
    "        \n",
    "        \n",
    "col = ??"
   ]
  },
  {
   "cell_type": "code",
   "execution_count": null,
   "metadata": {
    "collapsed": true
   },
   "outputs": [],
   "source": []
  }
 ],
 "metadata": {
  "kernelspec": {
   "display_name": "Python 3",
   "language": "python",
   "name": "python3"
  },
  "language_info": {
   "codemirror_mode": {
    "name": "ipython",
    "version": 3
   },
   "file_extension": ".py",
   "mimetype": "text/x-python",
   "name": "python",
   "nbconvert_exporter": "python",
   "pygments_lexer": "ipython3",
   "version": "3.6.2"
  }
 },
 "nbformat": 4,
 "nbformat_minor": 2
}
