{
 "cells": [
  {
   "cell_type": "code",
   "execution_count": 1,
   "metadata": {
    "collapsed": true
   },
   "outputs": [],
   "source": [
    "import pandas as pd\n",
    "import numpy as np"
   ]
  },
  {
   "cell_type": "code",
   "execution_count": 2,
   "metadata": {
    "collapsed": true
   },
   "outputs": [],
   "source": [
    "ocean = pd.read_csv(\"ocean.csv\")\n",
    "ocean.drop([\"Unnamed: 0\"], axis = 1, inplace = True)"
   ]
  },
  {
   "cell_type": "code",
   "execution_count": 3,
   "metadata": {},
   "outputs": [
    {
     "data": {
      "text/html": [
       "<div>\n",
       "<style>\n",
       "    .dataframe thead tr:only-child th {\n",
       "        text-align: right;\n",
       "    }\n",
       "\n",
       "    .dataframe thead th {\n",
       "        text-align: left;\n",
       "    }\n",
       "\n",
       "    .dataframe tbody tr th {\n",
       "        vertical-align: top;\n",
       "    }\n",
       "</style>\n",
       "<table border=\"1\" class=\"dataframe\">\n",
       "  <thead>\n",
       "    <tr style=\"text-align: right;\">\n",
       "      <th></th>\n",
       "      <th>A1</th>\n",
       "      <th>A2</th>\n",
       "      <th>A3</th>\n",
       "      <th>A4</th>\n",
       "      <th>A5</th>\n",
       "      <th>C1</th>\n",
       "      <th>C2</th>\n",
       "      <th>C3</th>\n",
       "      <th>C4</th>\n",
       "      <th>C5</th>\n",
       "      <th>...</th>\n",
       "      <th>N4</th>\n",
       "      <th>N5</th>\n",
       "      <th>O1</th>\n",
       "      <th>O2</th>\n",
       "      <th>O3</th>\n",
       "      <th>O4</th>\n",
       "      <th>O5</th>\n",
       "      <th>gender</th>\n",
       "      <th>education</th>\n",
       "      <th>age</th>\n",
       "    </tr>\n",
       "  </thead>\n",
       "  <tbody>\n",
       "    <tr>\n",
       "      <th>0</th>\n",
       "      <td>2.0</td>\n",
       "      <td>4.0</td>\n",
       "      <td>3.0</td>\n",
       "      <td>4.0</td>\n",
       "      <td>4.0</td>\n",
       "      <td>2.0</td>\n",
       "      <td>3.0</td>\n",
       "      <td>3.0</td>\n",
       "      <td>4.0</td>\n",
       "      <td>4.0</td>\n",
       "      <td>...</td>\n",
       "      <td>2.0</td>\n",
       "      <td>3.0</td>\n",
       "      <td>3.0</td>\n",
       "      <td>6</td>\n",
       "      <td>3.0</td>\n",
       "      <td>4.0</td>\n",
       "      <td>3.0</td>\n",
       "      <td>1</td>\n",
       "      <td>NaN</td>\n",
       "      <td>16</td>\n",
       "    </tr>\n",
       "    <tr>\n",
       "      <th>1</th>\n",
       "      <td>2.0</td>\n",
       "      <td>4.0</td>\n",
       "      <td>5.0</td>\n",
       "      <td>2.0</td>\n",
       "      <td>5.0</td>\n",
       "      <td>5.0</td>\n",
       "      <td>4.0</td>\n",
       "      <td>4.0</td>\n",
       "      <td>3.0</td>\n",
       "      <td>4.0</td>\n",
       "      <td>...</td>\n",
       "      <td>5.0</td>\n",
       "      <td>5.0</td>\n",
       "      <td>4.0</td>\n",
       "      <td>2</td>\n",
       "      <td>4.0</td>\n",
       "      <td>3.0</td>\n",
       "      <td>3.0</td>\n",
       "      <td>2</td>\n",
       "      <td>NaN</td>\n",
       "      <td>18</td>\n",
       "    </tr>\n",
       "    <tr>\n",
       "      <th>2</th>\n",
       "      <td>5.0</td>\n",
       "      <td>4.0</td>\n",
       "      <td>5.0</td>\n",
       "      <td>4.0</td>\n",
       "      <td>4.0</td>\n",
       "      <td>4.0</td>\n",
       "      <td>5.0</td>\n",
       "      <td>4.0</td>\n",
       "      <td>2.0</td>\n",
       "      <td>5.0</td>\n",
       "      <td>...</td>\n",
       "      <td>2.0</td>\n",
       "      <td>3.0</td>\n",
       "      <td>4.0</td>\n",
       "      <td>2</td>\n",
       "      <td>5.0</td>\n",
       "      <td>5.0</td>\n",
       "      <td>2.0</td>\n",
       "      <td>2</td>\n",
       "      <td>NaN</td>\n",
       "      <td>17</td>\n",
       "    </tr>\n",
       "  </tbody>\n",
       "</table>\n",
       "<p>3 rows × 28 columns</p>\n",
       "</div>"
      ],
      "text/plain": [
       "    A1   A2   A3   A4   A5   C1   C2   C3   C4   C5 ...    N4   N5   O1  O2  \\\n",
       "0  2.0  4.0  3.0  4.0  4.0  2.0  3.0  3.0  4.0  4.0 ...   2.0  3.0  3.0   6   \n",
       "1  2.0  4.0  5.0  2.0  5.0  5.0  4.0  4.0  3.0  4.0 ...   5.0  5.0  4.0   2   \n",
       "2  5.0  4.0  5.0  4.0  4.0  4.0  5.0  4.0  2.0  5.0 ...   2.0  3.0  4.0   2   \n",
       "\n",
       "    O3   O4   O5  gender  education  age  \n",
       "0  3.0  4.0  3.0       1        NaN   16  \n",
       "1  4.0  3.0  3.0       2        NaN   18  \n",
       "2  5.0  5.0  2.0       2        NaN   17  \n",
       "\n",
       "[3 rows x 28 columns]"
      ]
     },
     "execution_count": 3,
     "metadata": {},
     "output_type": "execute_result"
    }
   ],
   "source": [
    "ocean.head(3)"
   ]
  },
  {
   "cell_type": "code",
   "execution_count": 4,
   "metadata": {},
   "outputs": [
    {
     "data": {
      "text/plain": [
       "0    4.0\n",
       "1    2.0\n",
       "2    4.0\n",
       "3    5.0\n",
       "Name: A4, dtype: float64"
      ]
     },
     "execution_count": 4,
     "metadata": {},
     "output_type": "execute_result"
    }
   ],
   "source": [
    "ocean.iloc[0:4, 3]"
   ]
  },
  {
   "cell_type": "code",
   "execution_count": 5,
   "metadata": {},
   "outputs": [
    {
     "data": {
      "text/plain": [
       "(4.4334061135371181, 4.8305630026809654, 0.91778248437637089, 19)"
      ]
     },
     "execution_count": 5,
     "metadata": {},
     "output_type": "execute_result"
    }
   ],
   "source": [
    "question = \"A4\"\n",
    "\n",
    "def gender_difference(question):   \n",
    "    \n",
    "    col = 3\n",
    "    \n",
    "    row = 0\n",
    "    \n",
    "    wrong = 0\n",
    "\n",
    "    #\"amount\" is used as a number of men\n",
    "    male_amount = 0\n",
    "    #\"count\" is used as a sum of their answers\n",
    "    male_count = 0\n",
    "    \n",
    "    female_amount = 0\n",
    "    female_count = 0\n",
    "     \n",
    "    for illusive_variable_that_wants_to_be_used_but_is_useless in ocean[\"{}\".format(question)]:\n",
    "        \n",
    "        #Is it possible to calculate with selected cell? If not, it counts occurence in \"else\". (Selected by row and column...) (It cannot count with \"NaN\")\n",
    "        \n",
    "        if np.isfinite(ocean.iloc[row, col]):\n",
    "            \n",
    "            #Male's answer's strenghts are summed up in total, so we can later create (by dividing) a mean of answers using summation of number of male participants.\n",
    "            \n",
    "            if ocean.iloc[row, 25] == 1:\n",
    "                male_amount += ocean.iloc[row, col]\n",
    "                male_count += 1\n",
    "            #The same applies for females. Read description above.\n",
    "            else:\n",
    "                female_amount += ocean.iloc[row, col]\n",
    "                female_count += 1\n",
    "        #It is not possible to count with selected row in a column, so we count how many mistakes occured in whole CSV.\n",
    "        else:\n",
    "            wrong += 1\n",
    "            \n",
    "        #Function moves through cells. Columns are fixed, rows increase their indexes.\n",
    "        row += 1\n",
    "        \n",
    "    male_score = male_amount / male_count\n",
    "    female_score = female_amount / female_count\n",
    "    \n",
    "    difference = (male_score / female_score)\n",
    "  \n",
    "\n",
    "    return male_score, female_score, difference, wrong\n",
    "\n",
    "\n",
    "gender_difference(question)"
   ]
  },
  {
   "cell_type": "code",
   "execution_count": null,
   "metadata": {
    "collapsed": true
   },
   "outputs": [],
   "source": []
  }
 ],
 "metadata": {
  "kernelspec": {
   "display_name": "Python 3",
   "language": "python",
   "name": "python3"
  },
  "language_info": {
   "codemirror_mode": {
    "name": "ipython",
    "version": 3
   },
   "file_extension": ".py",
   "mimetype": "text/x-python",
   "name": "python",
   "nbconvert_exporter": "python",
   "pygments_lexer": "ipython3",
   "version": "3.6.1"
  }
 },
 "nbformat": 4,
 "nbformat_minor": 2
}
